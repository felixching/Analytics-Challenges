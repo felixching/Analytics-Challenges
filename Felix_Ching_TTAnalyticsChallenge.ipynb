{
 "cells": [
  {
   "cell_type": "markdown",
   "metadata": {},
   "source": [
    "# Thumbtack\n",
    "\n",
    "Thumbtack is a marketplace for local services. Customers come to see our website or mobile app to see our directory of service professionals in nearly 500 categories. As part of the search experience, customers can provide some basic details about their projects in the search filters to see pros that best match their needs. Customers can also see pros' price estimates for their projects. From the list of pros, customers can then explore pro profiles, contact the pros that interest them, and ultimately hire a pro."
   ]
  },
  {
   "cell_type": "markdown",
   "metadata": {},
   "source": [
    "### Investigation\n",
    "\n",
    "Thumbtack has decided to take a closer look at performance in two categories - House Cleaning and Local Moving. More specifically, our investigation aims to highlight: \n",
    "<ul>\n",
    "    <li>the types of pros our customers are interested in</li>\n",
    "    <li>how to increase the amount of contact for pros</li>\n",
    "    <li>recommendations to improve and grow our marketplace</li>\n",
    "</ul>\n"
   ]
  },
  {
   "cell_type": "code",
   "execution_count": 45,
   "metadata": {},
   "outputs": [],
   "source": [
    "#importing libraries\n",
    "%matplotlib inline\n",
    "\n",
    "import matplotlib\n",
    "import numpy as np\n",
    "import pandas as pd\n",
    "import matplotlib.pyplot as plt"
   ]
  },
  {
   "cell_type": "code",
   "execution_count": 46,
   "metadata": {},
   "outputs": [],
   "source": [
    "#read in datasets\n",
    "contacts = pd.read_csv(\"Contacts.csv\")\n",
    "visitors = pd.read_csv(\"Visitors.csv\")"
   ]
  },
  {
   "cell_type": "markdown",
   "metadata": {},
   "source": [
    "After importing the datasets, I like to have a general understanding and feel of the datasets."
   ]
  },
  {
   "cell_type": "code",
   "execution_count": 47,
   "metadata": {},
   "outputs": [
    {
     "name": "stdout",
     "output_type": "stream",
     "text": [
      "<class 'pandas.core.frame.DataFrame'>\n",
      "RangeIndex: 1504 entries, 0 to 1503\n",
      "Data columns (total 4 columns):\n",
      "visitor_id     1504 non-null int64\n",
      "pro_user_id    1504 non-null int64\n",
      "contact_id     1504 non-null int64\n",
      "hired          1504 non-null bool\n",
      "dtypes: bool(1), int64(3)\n",
      "memory usage: 36.8 KB\n"
     ]
    },
    {
     "data": {
      "text/html": [
       "<div>\n",
       "<style scoped>\n",
       "    .dataframe tbody tr th:only-of-type {\n",
       "        vertical-align: middle;\n",
       "    }\n",
       "\n",
       "    .dataframe tbody tr th {\n",
       "        vertical-align: top;\n",
       "    }\n",
       "\n",
       "    .dataframe thead th {\n",
       "        text-align: right;\n",
       "    }\n",
       "</style>\n",
       "<table border=\"1\" class=\"dataframe\">\n",
       "  <thead>\n",
       "    <tr style=\"text-align: right;\">\n",
       "      <th></th>\n",
       "      <th>visitor_id</th>\n",
       "      <th>pro_user_id</th>\n",
       "      <th>contact_id</th>\n",
       "      <th>hired</th>\n",
       "    </tr>\n",
       "  </thead>\n",
       "  <tbody>\n",
       "    <tr>\n",
       "      <td>0</td>\n",
       "      <td>339909111505494000</td>\n",
       "      <td>269676229116822000</td>\n",
       "      <td>339909524915273000</td>\n",
       "      <td>0</td>\n",
       "    </tr>\n",
       "    <tr>\n",
       "      <td>1</td>\n",
       "      <td>344128984608088000</td>\n",
       "      <td>343705945283207000</td>\n",
       "      <td>344129090535645000</td>\n",
       "      <td>0</td>\n",
       "    </tr>\n",
       "    <tr>\n",
       "      <td>2</td>\n",
       "      <td>344283283738624000</td>\n",
       "      <td>198869800397579000</td>\n",
       "      <td>344283629941841000</td>\n",
       "      <td>0</td>\n",
       "    </tr>\n",
       "    <tr>\n",
       "      <td>3</td>\n",
       "      <td>342932176648061000</td>\n",
       "      <td>198869800397579000</td>\n",
       "      <td>342932549106393000</td>\n",
       "      <td>0</td>\n",
       "    </tr>\n",
       "    <tr>\n",
       "      <td>4</td>\n",
       "      <td>344288410954719000</td>\n",
       "      <td>198869800397579000</td>\n",
       "      <td>344288499619061000</td>\n",
       "      <td>0</td>\n",
       "    </tr>\n",
       "  </tbody>\n",
       "</table>\n",
       "</div>"
      ],
      "text/plain": [
       "           visitor_id         pro_user_id          contact_id  hired\n",
       "0  339909111505494000  269676229116822000  339909524915273000      0\n",
       "1  344128984608088000  343705945283207000  344129090535645000      0\n",
       "2  344283283738624000  198869800397579000  344283629941841000      0\n",
       "3  342932176648061000  198869800397579000  342932549106393000      0\n",
       "4  344288410954719000  198869800397579000  344288499619061000      0"
      ]
     },
     "execution_count": 47,
     "metadata": {},
     "output_type": "execute_result"
    }
   ],
   "source": [
    "#show info and top five rows of contacts\n",
    "contacts.info()\n",
    "\n",
    "#converting True/False to 1/0\n",
    "contacts.hired = contacts.hired.astype(int)\n",
    "contacts.head(5)"
   ]
  },
  {
   "cell_type": "code",
   "execution_count": 48,
   "metadata": {},
   "outputs": [
    {
     "name": "stdout",
     "output_type": "stream",
     "text": [
      "<class 'pandas.core.frame.DataFrame'>\n",
      "RangeIndex: 26102 entries, 0 to 26101\n",
      "Data columns (total 11 columns):\n",
      "row_number                            26102 non-null int64\n",
      "visitor_id                            26102 non-null int64\n",
      "search_timestamp                      26102 non-null object\n",
      "category                              26102 non-null object\n",
      "pro_user_id                           26102 non-null int64\n",
      "num_reviews                           26102 non-null int64\n",
      "avg_rating                            24947 non-null float64\n",
      "pro_last_active_time_before_search    25035 non-null object\n",
      "cost_estimate_cents                   23944 non-null float64\n",
      "result_position                       26102 non-null int64\n",
      "service_page_viewed                   26102 non-null bool\n",
      "dtypes: bool(1), float64(2), int64(5), object(3)\n",
      "memory usage: 2.0+ MB\n"
     ]
    },
    {
     "data": {
      "text/html": [
       "<div>\n",
       "<style scoped>\n",
       "    .dataframe tbody tr th:only-of-type {\n",
       "        vertical-align: middle;\n",
       "    }\n",
       "\n",
       "    .dataframe tbody tr th {\n",
       "        vertical-align: top;\n",
       "    }\n",
       "\n",
       "    .dataframe thead th {\n",
       "        text-align: right;\n",
       "    }\n",
       "</style>\n",
       "<table border=\"1\" class=\"dataframe\">\n",
       "  <thead>\n",
       "    <tr style=\"text-align: right;\">\n",
       "      <th></th>\n",
       "      <th>row_number</th>\n",
       "      <th>visitor_id</th>\n",
       "      <th>search_timestamp</th>\n",
       "      <th>category</th>\n",
       "      <th>pro_user_id</th>\n",
       "      <th>num_reviews</th>\n",
       "      <th>avg_rating</th>\n",
       "      <th>pro_last_active_time_before_search</th>\n",
       "      <th>cost_estimate_cents</th>\n",
       "      <th>result_position</th>\n",
       "      <th>service_page_viewed</th>\n",
       "    </tr>\n",
       "  </thead>\n",
       "  <tbody>\n",
       "    <tr>\n",
       "      <td>0</td>\n",
       "      <td>15173</td>\n",
       "      <td>344101422347558000</td>\n",
       "      <td>2018-11-26 15:43:43.365 UTC</td>\n",
       "      <td>Local Moving (under 50 miles)</td>\n",
       "      <td>343959583718981000</td>\n",
       "      <td>0</td>\n",
       "      <td>NaN</td>\n",
       "      <td>NaN</td>\n",
       "      <td>NaN</td>\n",
       "      <td>6</td>\n",
       "      <td>0</td>\n",
       "    </tr>\n",
       "    <tr>\n",
       "      <td>1</td>\n",
       "      <td>8426</td>\n",
       "      <td>344461605879021000</td>\n",
       "      <td>2018-11-30 19:46:46.593 UTC</td>\n",
       "      <td>House Cleaning</td>\n",
       "      <td>344053677817806000</td>\n",
       "      <td>0</td>\n",
       "      <td>NaN</td>\n",
       "      <td>2018-11-29 00:32:46.809 UTC</td>\n",
       "      <td>8900.0</td>\n",
       "      <td>6</td>\n",
       "      <td>0</td>\n",
       "    </tr>\n",
       "    <tr>\n",
       "      <td>2</td>\n",
       "      <td>12809</td>\n",
       "      <td>344142189241475000</td>\n",
       "      <td>2018-11-27 03:03:09.969 UTC</td>\n",
       "      <td>House Cleaning</td>\n",
       "      <td>343931062348177000</td>\n",
       "      <td>0</td>\n",
       "      <td>NaN</td>\n",
       "      <td>NaN</td>\n",
       "      <td>10000.0</td>\n",
       "      <td>21</td>\n",
       "      <td>0</td>\n",
       "    </tr>\n",
       "    <tr>\n",
       "      <td>3</td>\n",
       "      <td>17310</td>\n",
       "      <td>344215295106097000</td>\n",
       "      <td>2018-11-27 23:21:35.89 UTC</td>\n",
       "      <td>House Cleaning</td>\n",
       "      <td>343931062348177000</td>\n",
       "      <td>0</td>\n",
       "      <td>NaN</td>\n",
       "      <td>NaN</td>\n",
       "      <td>10000.0</td>\n",
       "      <td>22</td>\n",
       "      <td>0</td>\n",
       "    </tr>\n",
       "    <tr>\n",
       "      <td>4</td>\n",
       "      <td>10072</td>\n",
       "      <td>344364289304010000</td>\n",
       "      <td>2018-11-29 16:44:50.202 UTC</td>\n",
       "      <td>House Cleaning</td>\n",
       "      <td>343934345272852000</td>\n",
       "      <td>0</td>\n",
       "      <td>NaN</td>\n",
       "      <td>NaN</td>\n",
       "      <td>9000.0</td>\n",
       "      <td>13</td>\n",
       "      <td>0</td>\n",
       "    </tr>\n",
       "  </tbody>\n",
       "</table>\n",
       "</div>"
      ],
      "text/plain": [
       "   row_number          visitor_id             search_timestamp  \\\n",
       "0       15173  344101422347558000  2018-11-26 15:43:43.365 UTC   \n",
       "1        8426  344461605879021000  2018-11-30 19:46:46.593 UTC   \n",
       "2       12809  344142189241475000  2018-11-27 03:03:09.969 UTC   \n",
       "3       17310  344215295106097000   2018-11-27 23:21:35.89 UTC   \n",
       "4       10072  344364289304010000  2018-11-29 16:44:50.202 UTC   \n",
       "\n",
       "                        category         pro_user_id  num_reviews  avg_rating  \\\n",
       "0  Local Moving (under 50 miles)  343959583718981000            0         NaN   \n",
       "1                 House Cleaning  344053677817806000            0         NaN   \n",
       "2                 House Cleaning  343931062348177000            0         NaN   \n",
       "3                 House Cleaning  343931062348177000            0         NaN   \n",
       "4                 House Cleaning  343934345272852000            0         NaN   \n",
       "\n",
       "  pro_last_active_time_before_search  cost_estimate_cents  result_position  \\\n",
       "0                                NaN                  NaN                6   \n",
       "1        2018-11-29 00:32:46.809 UTC               8900.0                6   \n",
       "2                                NaN              10000.0               21   \n",
       "3                                NaN              10000.0               22   \n",
       "4                                NaN               9000.0               13   \n",
       "\n",
       "   service_page_viewed  \n",
       "0                    0  \n",
       "1                    0  \n",
       "2                    0  \n",
       "3                    0  \n",
       "4                    0  "
      ]
     },
     "execution_count": 48,
     "metadata": {},
     "output_type": "execute_result"
    }
   ],
   "source": [
    "#show info and top five rows of visitors\n",
    "visitors.info()\n",
    "\n",
    "#converting True/False to 1/0\n",
    "visitors.service_page_viewed = visitors.service_page_viewed.astype(int)\n",
    "visitors.head(5)"
   ]
  },
  {
   "cell_type": "code",
   "execution_count": 141,
   "metadata": {},
   "outputs": [
    {
     "data": {
      "text/plain": [
       "6"
      ]
     },
     "execution_count": 141,
     "metadata": {},
     "output_type": "execute_result"
    }
   ],
   "source": [
    "#DELETE AFTER DONE\n",
    "\n",
    "example = sum(visitors['visitor_id'] == 344101422347558000)\n",
    "example"
   ]
  },
  {
   "cell_type": "markdown",
   "metadata": {},
   "source": [
    "## The Types of Pros our Customers are Interested In\n",
    "\n",
    "To get a sense of what types of pros most people are interested in, I would like to start by grouping the customers from the visitors table on 'category', focusing on the total count of 'num_reviews', 'avg_rating', 'cost_estimate_cents', and 'service_page_viewed'. "
   ]
  },
  {
   "cell_type": "code",
   "execution_count": 49,
   "metadata": {},
   "outputs": [
    {
     "data": {
      "text/html": [
       "<div>\n",
       "<style scoped>\n",
       "    .dataframe tbody tr th:only-of-type {\n",
       "        vertical-align: middle;\n",
       "    }\n",
       "\n",
       "    .dataframe tbody tr th {\n",
       "        vertical-align: top;\n",
       "    }\n",
       "\n",
       "    .dataframe thead th {\n",
       "        text-align: right;\n",
       "    }\n",
       "</style>\n",
       "<table border=\"1\" class=\"dataframe\">\n",
       "  <thead>\n",
       "    <tr style=\"text-align: right;\">\n",
       "      <th></th>\n",
       "      <th>num_reviews</th>\n",
       "      <th>avg_rating</th>\n",
       "      <th>cost_estimate_cents</th>\n",
       "      <th>service_page_viewed</th>\n",
       "    </tr>\n",
       "    <tr>\n",
       "      <th>category</th>\n",
       "      <th></th>\n",
       "      <th></th>\n",
       "      <th></th>\n",
       "      <th></th>\n",
       "    </tr>\n",
       "  </thead>\n",
       "  <tbody>\n",
       "    <tr>\n",
       "      <td>House Cleaning</td>\n",
       "      <td>19054</td>\n",
       "      <td>18165</td>\n",
       "      <td>17562</td>\n",
       "      <td>19054</td>\n",
       "    </tr>\n",
       "    <tr>\n",
       "      <td>Local Moving (under 50 miles)</td>\n",
       "      <td>7048</td>\n",
       "      <td>6782</td>\n",
       "      <td>6382</td>\n",
       "      <td>7048</td>\n",
       "    </tr>\n",
       "  </tbody>\n",
       "</table>\n",
       "</div>"
      ],
      "text/plain": [
       "                               num_reviews  avg_rating  cost_estimate_cents  \\\n",
       "category                                                                      \n",
       "House Cleaning                       19054       18165                17562   \n",
       "Local Moving (under 50 miles)         7048        6782                 6382   \n",
       "\n",
       "                               service_page_viewed  \n",
       "category                                            \n",
       "House Cleaning                               19054  \n",
       "Local Moving (under 50 miles)                 7048  "
      ]
     },
     "execution_count": 49,
     "metadata": {},
     "output_type": "execute_result"
    }
   ],
   "source": [
    "categories = visitors.groupby('category').count()\n",
    "categories[['num_reviews', 'avg_rating', 'cost_estimate_cents', 'service_page_viewed']]"
   ]
  },
  {
   "cell_type": "markdown",
   "metadata": {},
   "source": [
    "Initially, we can see that House Cleaning has more total number of reviews, average rating, cost estimate (in cents), and service pages viewed across the board."
   ]
  },
  {
   "cell_type": "markdown",
   "metadata": {},
   "source": [
    "Assuming 'visitor_id' is consistent with both Contacts and Visitors, we can join both tables on 'visitor_id' to get analyze the information and relationships from both tables. From this point onwards, we will be using this table for simplicity and to avoid confusion between the other tables. \n",
    "\n",
    "Note: One caveat is that by merging both datasets on an inner join (default), we are only taking into consideration the customers that have both visited and contacted a pro."
   ]
  },
  {
   "cell_type": "code",
   "execution_count": 102,
   "metadata": {},
   "outputs": [
    {
     "data": {
      "text/html": [
       "<div>\n",
       "<style scoped>\n",
       "    .dataframe tbody tr th:only-of-type {\n",
       "        vertical-align: middle;\n",
       "    }\n",
       "\n",
       "    .dataframe tbody tr th {\n",
       "        vertical-align: top;\n",
       "    }\n",
       "\n",
       "    .dataframe thead th {\n",
       "        text-align: right;\n",
       "    }\n",
       "</style>\n",
       "<table border=\"1\" class=\"dataframe\">\n",
       "  <thead>\n",
       "    <tr style=\"text-align: right;\">\n",
       "      <th></th>\n",
       "      <th>row_number</th>\n",
       "      <th>visitor_id</th>\n",
       "      <th>pro_user_id_x</th>\n",
       "      <th>num_reviews</th>\n",
       "      <th>avg_rating</th>\n",
       "      <th>cost_estimate_cents</th>\n",
       "      <th>result_position</th>\n",
       "      <th>service_page_viewed</th>\n",
       "      <th>pro_user_id_y</th>\n",
       "      <th>contact_id</th>\n",
       "      <th>hired</th>\n",
       "    </tr>\n",
       "  </thead>\n",
       "  <tbody>\n",
       "    <tr>\n",
       "      <td>count</td>\n",
       "      <td>13080.000000</td>\n",
       "      <td>1.308000e+04</td>\n",
       "      <td>1.308000e+04</td>\n",
       "      <td>13080.000000</td>\n",
       "      <td>12504.000000</td>\n",
       "      <td>11966.000000</td>\n",
       "      <td>13080.000000</td>\n",
       "      <td>13080.000000</td>\n",
       "      <td>1.308000e+04</td>\n",
       "      <td>1.308000e+04</td>\n",
       "      <td>13080.000000</td>\n",
       "    </tr>\n",
       "    <tr>\n",
       "      <td>mean</td>\n",
       "      <td>13115.508333</td>\n",
       "      <td>3.424692e+17</td>\n",
       "      <td>2.951566e+17</td>\n",
       "      <td>53.678746</td>\n",
       "      <td>4.676277</td>\n",
       "      <td>11414.524486</td>\n",
       "      <td>7.734174</td>\n",
       "      <td>0.150229</td>\n",
       "      <td>2.842938e+17</td>\n",
       "      <td>3.424703e+17</td>\n",
       "      <td>0.250765</td>\n",
       "    </tr>\n",
       "    <tr>\n",
       "      <td>std</td>\n",
       "      <td>7507.738784</td>\n",
       "      <td>1.502895e+15</td>\n",
       "      <td>5.225232e+16</td>\n",
       "      <td>113.502221</td>\n",
       "      <td>0.415458</td>\n",
       "      <td>4536.364981</td>\n",
       "      <td>6.565512</td>\n",
       "      <td>0.357310</td>\n",
       "      <td>5.039058e+16</td>\n",
       "      <td>1.503151e+15</td>\n",
       "      <td>0.433470</td>\n",
       "    </tr>\n",
       "    <tr>\n",
       "      <td>min</td>\n",
       "      <td>1.000000</td>\n",
       "      <td>3.392089e+17</td>\n",
       "      <td>4.568943e+16</td>\n",
       "      <td>0.000000</td>\n",
       "      <td>1.000000</td>\n",
       "      <td>100.000000</td>\n",
       "      <td>1.000000</td>\n",
       "      <td>0.000000</td>\n",
       "      <td>7.524120e+16</td>\n",
       "      <td>3.392091e+17</td>\n",
       "      <td>0.000000</td>\n",
       "    </tr>\n",
       "    <tr>\n",
       "      <td>25%</td>\n",
       "      <td>6622.750000</td>\n",
       "      <td>3.412598e+17</td>\n",
       "      <td>2.680801e+17</td>\n",
       "      <td>4.000000</td>\n",
       "      <td>4.521127</td>\n",
       "      <td>8900.000000</td>\n",
       "      <td>3.000000</td>\n",
       "      <td>0.000000</td>\n",
       "      <td>2.497537e+17</td>\n",
       "      <td>3.412600e+17</td>\n",
       "      <td>0.000000</td>\n",
       "    </tr>\n",
       "    <tr>\n",
       "      <td>50%</td>\n",
       "      <td>13083.500000</td>\n",
       "      <td>3.429369e+17</td>\n",
       "      <td>3.132752e+17</td>\n",
       "      <td>12.000000</td>\n",
       "      <td>4.800000</td>\n",
       "      <td>10000.000000</td>\n",
       "      <td>6.000000</td>\n",
       "      <td>0.000000</td>\n",
       "      <td>2.961652e+17</td>\n",
       "      <td>3.429373e+17</td>\n",
       "      <td>0.000000</td>\n",
       "    </tr>\n",
       "    <tr>\n",
       "      <td>75%</td>\n",
       "      <td>19611.250000</td>\n",
       "      <td>3.436836e+17</td>\n",
       "      <td>3.358089e+17</td>\n",
       "      <td>46.000000</td>\n",
       "      <td>5.000000</td>\n",
       "      <td>12500.000000</td>\n",
       "      <td>11.000000</td>\n",
       "      <td>0.000000</td>\n",
       "      <td>3.294527e+17</td>\n",
       "      <td>3.436839e+17</td>\n",
       "      <td>1.000000</td>\n",
       "    </tr>\n",
       "    <tr>\n",
       "      <td>max</td>\n",
       "      <td>26093.000000</td>\n",
       "      <td>3.444753e+17</td>\n",
       "      <td>3.443095e+17</td>\n",
       "      <td>997.000000</td>\n",
       "      <td>5.000000</td>\n",
       "      <td>100500.000000</td>\n",
       "      <td>30.000000</td>\n",
       "      <td>1.000000</td>\n",
       "      <td>3.438920e+17</td>\n",
       "      <td>3.444755e+17</td>\n",
       "      <td>1.000000</td>\n",
       "    </tr>\n",
       "  </tbody>\n",
       "</table>\n",
       "</div>"
      ],
      "text/plain": [
       "         row_number    visitor_id  pro_user_id_x   num_reviews    avg_rating  \\\n",
       "count  13080.000000  1.308000e+04   1.308000e+04  13080.000000  12504.000000   \n",
       "mean   13115.508333  3.424692e+17   2.951566e+17     53.678746      4.676277   \n",
       "std     7507.738784  1.502895e+15   5.225232e+16    113.502221      0.415458   \n",
       "min        1.000000  3.392089e+17   4.568943e+16      0.000000      1.000000   \n",
       "25%     6622.750000  3.412598e+17   2.680801e+17      4.000000      4.521127   \n",
       "50%    13083.500000  3.429369e+17   3.132752e+17     12.000000      4.800000   \n",
       "75%    19611.250000  3.436836e+17   3.358089e+17     46.000000      5.000000   \n",
       "max    26093.000000  3.444753e+17   3.443095e+17    997.000000      5.000000   \n",
       "\n",
       "       cost_estimate_cents  result_position  service_page_viewed  \\\n",
       "count         11966.000000     13080.000000         13080.000000   \n",
       "mean          11414.524486         7.734174             0.150229   \n",
       "std            4536.364981         6.565512             0.357310   \n",
       "min             100.000000         1.000000             0.000000   \n",
       "25%            8900.000000         3.000000             0.000000   \n",
       "50%           10000.000000         6.000000             0.000000   \n",
       "75%           12500.000000        11.000000             0.000000   \n",
       "max          100500.000000        30.000000             1.000000   \n",
       "\n",
       "       pro_user_id_y    contact_id         hired  \n",
       "count   1.308000e+04  1.308000e+04  13080.000000  \n",
       "mean    2.842938e+17  3.424703e+17      0.250765  \n",
       "std     5.039058e+16  1.503151e+15      0.433470  \n",
       "min     7.524120e+16  3.392091e+17      0.000000  \n",
       "25%     2.497537e+17  3.412600e+17      0.000000  \n",
       "50%     2.961652e+17  3.429373e+17      0.000000  \n",
       "75%     3.294527e+17  3.436839e+17      1.000000  \n",
       "max     3.438920e+17  3.444755e+17      1.000000  "
      ]
     },
     "execution_count": 102,
     "metadata": {},
     "output_type": "execute_result"
    }
   ],
   "source": [
    "contactedandvisited = pd.merge(visitors, contacts, on='visitor_id')\n",
    "contactedandvisited.describe()\n",
    "#hired"
   ]
  },
  {
   "cell_type": "code",
   "execution_count": null,
   "metadata": {},
   "outputs": [],
   "source": [
    "\"\"\"\n",
    "analysis of result position relative to service page viewed\n",
    "analysis of cost relative to page clicked\n",
    "relate rating to searches\n",
    "\"\"\""
   ]
  },
  {
   "cell_type": "code",
   "execution_count": 100,
   "metadata": {},
   "outputs": [
    {
     "data": {
      "text/plain": [
       "Text(0, 0.5, 'Cost Estimate (in cents)')"
      ]
     },
     "execution_count": 100,
     "metadata": {},
     "output_type": "execute_result"
    },
    {
     "data": {
      "image/png": "[encoded data removed]",
      "text/plain": [
       "<Figure size 720x360 with 1 Axes>"
      ]
     },
     "metadata": {
      "needs_background": "light"
     },
     "output_type": "display_data"
    }
   ],
   "source": [
    "#plt.plot([1, 2, 3, 4], [1, 2, 3, 4])\n",
    "\n",
    "#plt.pyplot.bar(hired.result_position, hired.hired)\n",
    "#plt.rcParams['figure.figsize']=(10,5)\n",
    "\n",
    "plt.scatter(contactedandvisited['result_position'], contactedandvisited['cost_estimate_cents'])\n",
    "plt.title('Scatter Plot of Cost Estimates based on Search Ranking')\n",
    "plt.xlabel('Search Ranking')\n",
    "plt.ylabel('Cost Estimate (in cents)')\n"
   ]
  },
  {
   "cell_type": "markdown",
   "metadata": {},
   "source": [
    "To better understand the types of pros that customers are not only interested in (through clicks) but also the ones that are actually hired, the combined dataset is separated into hired and nothired tables for separate analysis. Three metrics that are of particular interest are 'num_reviews', 'avg_rating', 'cost_estimate_cents', and 'result_position'."
   ]
  },
  {
   "cell_type": "code",
   "execution_count": 136,
   "metadata": {},
   "outputs": [
    {
     "data": {
      "text/html": [
       "<div>\n",
       "<style scoped>\n",
       "    .dataframe tbody tr th:only-of-type {\n",
       "        vertical-align: middle;\n",
       "    }\n",
       "\n",
       "    .dataframe tbody tr th {\n",
       "        vertical-align: top;\n",
       "    }\n",
       "\n",
       "    .dataframe thead th {\n",
       "        text-align: right;\n",
       "    }\n",
       "</style>\n",
       "<table border=\"1\" class=\"dataframe\">\n",
       "  <thead>\n",
       "    <tr style=\"text-align: right;\">\n",
       "      <th></th>\n",
       "      <th>num_reviews</th>\n",
       "      <th>avg_rating</th>\n",
       "      <th>cost_estimate_cents</th>\n",
       "      <th>result_position</th>\n",
       "    </tr>\n",
       "  </thead>\n",
       "  <tbody>\n",
       "    <tr>\n",
       "      <td>mean</td>\n",
       "      <td>56.730488</td>\n",
       "      <td>4.672601</td>\n",
       "      <td>11747.384205</td>\n",
       "      <td>7.672256</td>\n",
       "    </tr>\n",
       "    <tr>\n",
       "      <td>std</td>\n",
       "      <td>116.131783</td>\n",
       "      <td>0.418596</td>\n",
       "      <td>4741.306499</td>\n",
       "      <td>6.324427</td>\n",
       "    </tr>\n",
       "  </tbody>\n",
       "</table>\n",
       "</div>"
      ],
      "text/plain": [
       "      num_reviews  avg_rating  cost_estimate_cents  result_position\n",
       "mean    56.730488    4.672601         11747.384205         7.672256\n",
       "std    116.131783    0.418596          4741.306499         6.324427"
      ]
     },
     "execution_count": 136,
     "metadata": {},
     "output_type": "execute_result"
    }
   ],
   "source": [
    "#hired\n",
    "hired = contactedandvisited[contactedandvisited['hired'] == 1]\n",
    "\n",
    "hired_stats = hired.describe()\n",
    "hired_stats.loc[['mean', 'std'], ['num_reviews', 'avg_rating', 'cost_estimate_cents', 'result_position']]\n"
   ]
  },
  {
   "cell_type": "code",
   "execution_count": 135,
   "metadata": {},
   "outputs": [
    {
     "data": {
      "text/html": [
       "<div>\n",
       "<style scoped>\n",
       "    .dataframe tbody tr th:only-of-type {\n",
       "        vertical-align: middle;\n",
       "    }\n",
       "\n",
       "    .dataframe tbody tr th {\n",
       "        vertical-align: top;\n",
       "    }\n",
       "\n",
       "    .dataframe thead th {\n",
       "        text-align: right;\n",
       "    }\n",
       "</style>\n",
       "<table border=\"1\" class=\"dataframe\">\n",
       "  <thead>\n",
       "    <tr style=\"text-align: right;\">\n",
       "      <th></th>\n",
       "      <th>num_reviews</th>\n",
       "      <th>avg_rating</th>\n",
       "      <th>cost_estimate_cents</th>\n",
       "      <th>result_position</th>\n",
       "    </tr>\n",
       "  </thead>\n",
       "  <tbody>\n",
       "    <tr>\n",
       "      <td>mean</td>\n",
       "      <td>52.657347</td>\n",
       "      <td>4.677520</td>\n",
       "      <td>11303.100948</td>\n",
       "      <td>7.754898</td>\n",
       "    </tr>\n",
       "    <tr>\n",
       "      <td>std</td>\n",
       "      <td>112.595953</td>\n",
       "      <td>0.414406</td>\n",
       "      <td>4460.387325</td>\n",
       "      <td>6.644435</td>\n",
       "    </tr>\n",
       "  </tbody>\n",
       "</table>\n",
       "</div>"
      ],
      "text/plain": [
       "      num_reviews  avg_rating  cost_estimate_cents  result_position\n",
       "mean    52.657347    4.677520         11303.100948         7.754898\n",
       "std    112.595953    0.414406          4460.387325         6.644435"
      ]
     },
     "execution_count": 135,
     "metadata": {},
     "output_type": "execute_result"
    }
   ],
   "source": [
    "#not_hired\n",
    "not_hired = contactedandvisited[contactedandvisited['hired'] == 0]\n",
    "\n",
    "not_hired_stats = not_hired.describe()\n",
    "not_hired_stats.loc[['mean', 'std'], ['num_reviews', 'avg_rating', 'cost_estimate_cents', 'result_position']]\n"
   ]
  },
  {
   "cell_type": "markdown",
   "metadata": {},
   "source": [
    "- ANALYZING FREQUENCY OF CLICKS PER UNIQUE VISITOR TO HIRED"
   ]
  },
  {
   "cell_type": "code",
   "execution_count": 143,
   "metadata": {},
   "outputs": [
    {
     "data": {
      "text/plain": [
       "<matplotlib.collections.PathCollection at 0x1c2bf6f90>"
      ]
     },
     "execution_count": 143,
     "metadata": {},
     "output_type": "execute_result"
    },
    {
     "data": {
      "image/png": "[encoded data removed]",
      "text/plain": [
       "<Figure size 720x360 with 1 Axes>"
      ]
     },
     "metadata": {
      "needs_background": "light"
     },
     "output_type": "display_data"
    }
   ],
   "source": [
    "\"\"\"\n",
    "HOW MANY TIMES CLICKED PER VISITOR VS HIRED\n",
    "FREQUENCY OF CLICKS TO HIRED\n",
    "\"\"\"\n",
    "\n",
    "plt.scatter(hired['visitor_id'], hired['cost_estimate_cents'])\n",
    "\n",
    "#analysis of cost relative to page clicked\n",
    "#plt.bar(hired['service_page_viewed'], hired['cost_estimate_cents'])\n",
    "#t.show() "
   ]
  },
  {
   "cell_type": "code",
   "execution_count": 145,
   "metadata": {},
   "outputs": [
    {
     "data": {
      "text/plain": [
       "<matplotlib.collections.PathCollection at 0x1c3826d10>"
      ]
     },
     "execution_count": 145,
     "metadata": {},
     "output_type": "execute_result"
    },
    {
     "data": {
      "image/png": "[encoded data removed]",
      "text/plain": [
       "<Figure size 720x360 with 1 Axes>"
      ]
     },
     "metadata": {
      "needs_background": "light"
     },
     "output_type": "display_data"
    }
   ],
   "source": [
    "#ranking per visitor vs cost for hired\n",
    "plt.scatter(not_hired['visitor_id'], not_hired['cost_estimate_cents'])"
   ]
  },
  {
   "cell_type": "code",
   "execution_count": null,
   "metadata": {},
   "outputs": [],
   "source": [
    "\"\"\"\n",
    "\n",
    "analysis on whether there were clicks to hired\n",
    "analysis of rates to hired\n",
    "\n",
    "GRAPHS\n",
    "- cost estimate (x axis) vs hired\n",
    "- ranking vs clicked\n",
    "- rating vs clicked\n",
    "\n",
    "- of those who clicked, how many hired based on pricing? ranking?\n",
    "\n",
    "\"\"\""
   ]
  },
  {
   "cell_type": "markdown",
   "metadata": {},
   "source": [
    "## How to Increase Contact for Pros\n",
    "\n",
    "From our analysis, it is clear that higher search rankings aid pros in finding more customers. It makes logical sense as the top ranking searches are the first ones to be considered and clicked on by customers.\n",
    "\n",
    "One method I would definitely want to use to increase contact for pros is to analyze the common search history of keywords that customers use for each category using NLP libraries such as spaCy and NLTK. Then, I would want to perform additional analysis of these keywords on the advertisements placed by pros based on SEO.\n",
    "\n",
    "Another aspect I would like to experiment with is to utilize A/B testing on two separate websites (of the same pro) to differentiate the effectiveness of keyword searches."
   ]
  },
  {
   "cell_type": "code",
   "execution_count": null,
   "metadata": {},
   "outputs": [],
   "source": []
  }
 ],
 "metadata": {
  "kernelspec": {
   "display_name": "Python 3",
   "language": "python",
   "name": "python3"
  },
  "language_info": {
   "codemirror_mode": {
    "name": "ipython",
    "version": 3
   },
   "file_extension": ".py",
   "mimetype": "text/x-python",
   "name": "python",
   "nbconvert_exporter": "python",
   "pygments_lexer": "ipython3",
   "version": "3.7.4"
  }
 },
 "nbformat": 4,
 "nbformat_minor": 2
}
